{
  "nbformat": 4,
  "nbformat_minor": 0,
  "metadata": {
    "colab": {
      "provenance": [],
      "authorship_tag": "ABX9TyOQ1cMquqQxYo6P4iyEvukP",
      "include_colab_link": true
    },
    "kernelspec": {
      "name": "python3",
      "display_name": "Python 3"
    },
    "language_info": {
      "name": "python"
    }
  },
  "cells": [
    {
      "cell_type": "markdown",
      "metadata": {
        "id": "view-in-github",
        "colab_type": "text"
      },
      "source": [
        "<a href=\"https://colab.research.google.com/github/dani-s-h007/gradient-descent/blob/main/gradientdescent.ipynb\" target=\"_parent\"><img src=\"https://colab.research.google.com/assets/colab-badge.svg\" alt=\"Open In Colab\"/></a>"
      ]
    },
    {
      "cell_type": "code",
      "execution_count": 1,
      "metadata": {
        "id": "r6-inPvpiC6_"
      },
      "outputs": [],
      "source": [
        "import torch\n",
        "import torch.nn as nn\n",
        "import torch.optim as optim\n",
        "import matplotlib.pyplot as plt\n"
      ]
    },
    {
      "cell_type": "code",
      "source": [
        "import random\n",
        "\n",
        "def generate_data(n=1000):\n",
        "    X = []\n",
        "    Y = []\n",
        "    for _ in range(n):\n",
        "        a, b, c, d = [random.randint(-5, 5) for _ in range(4)]\n",
        "        x = random.uniform(-10, 10)\n",
        "        y = a * x**3 + b * x**2 + c * x + d\n",
        "        X.append([a, b, c, d, x])\n",
        "        Y.append(y)\n",
        "    return torch.tensor(X, dtype=torch.float32), torch.tensor(Y, dtype=torch.float32).view(-1, 1)\n",
        "\n",
        "X_train, y_train = generate_data()\n"
      ],
      "metadata": {
        "id": "BHT3FUh0iQtP"
      },
      "execution_count": 2,
      "outputs": []
    },
    {
      "cell_type": "code",
      "source": [
        "class PolySolver(nn.Module):\n",
        "    def __init__(self):\n",
        "        super().__init__()\n",
        "        self.fc1 = nn.Linear(5, 64)\n",
        "        self.relu = nn.ReLU()\n",
        "        self.fc2 = nn.Linear(64, 32)\n",
        "        self.out = nn.Linear(32, 1)\n",
        "\n",
        "    def forward(self, x):\n",
        "        x = self.relu(self.fc1(x))\n",
        "        x = self.relu(self.fc2(x))\n",
        "        return self.out(x)\n"
      ],
      "metadata": {
        "id": "ES8yEQHOiSvz"
      },
      "execution_count": 3,
      "outputs": []
    },
    {
      "cell_type": "code",
      "source": [
        "model = PolySolver()\n",
        "criterion = nn.MSELoss()\n",
        "optimizer = optim.SGD(model.parameters(), lr=0.001)\n",
        "\n",
        "epochs = 1000\n",
        "for epoch in range(epochs):\n",
        "    optimizer.zero_grad()\n",
        "    output = model(X_train)\n",
        "    loss = criterion(output, y_train)\n",
        "    loss.backward()\n",
        "    optimizer.step()\n",
        "    if epoch % 100 == 0:\n",
        "        print(f\"Epoch {epoch}: Loss = {loss.item()}\")\n"
      ],
      "metadata": {
        "colab": {
          "base_uri": "https://localhost:8080/"
        },
        "id": "8auc8v4piUsS",
        "outputId": "dc55ac98-8f6f-4340-bd8e-1880f9d54757"
      },
      "execution_count": 4,
      "outputs": [
        {
          "output_type": "stream",
          "name": "stdout",
          "text": [
            "Epoch 0: Loss = 1532239.25\n",
            "Epoch 100: Loss = nan\n",
            "Epoch 200: Loss = nan\n",
            "Epoch 300: Loss = nan\n",
            "Epoch 400: Loss = nan\n",
            "Epoch 500: Loss = nan\n",
            "Epoch 600: Loss = nan\n",
            "Epoch 700: Loss = nan\n",
            "Epoch 800: Loss = nan\n",
            "Epoch 900: Loss = nan\n"
          ]
        }
      ]
    }
  ]
}